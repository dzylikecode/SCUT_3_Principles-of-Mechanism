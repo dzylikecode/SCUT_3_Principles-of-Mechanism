{
 "cells": [
  {
   "cell_type": "markdown",
   "metadata": {},
   "source": [
    "## 已知参数"
   ]
  },
  {
   "cell_type": "code",
   "execution_count": 1,
   "metadata": {},
   "outputs": [],
   "source": [
    "\n",
    "import numpy as np\n",
    "class Settings:\n",
    "    \"\"\"已知参数\"\"\"\n",
    "    def __init__(self):\n",
    "        self.H = 200\n",
    "        self.D = 180\n",
    "        self.e = 40\n",
    "        self.K = 1.035\n",
    "        self.conefficient_l_AC2 = 0.38\n",
    "        self.Q1 = 140\n",
    "        self.Q2 = 115\n",
    "        self.Q3 = 190\n",
    "        self.conefficient_Rho_square = 0.17\n",
    "        self.n = 650\n",
    "        self.Delta = 1 / 100\n",
    "        self.u_pi = 2   # pi 的比例尺\n",
    "        self.pi = np.array([\n",
    "            0, 1, 1, 1, 1, 1, 1, 1, 1, 1, -1.5, -5, -8, -15, -43.5, -140, -140, -72.5,\n",
    "            -50.5, -32.5, -15, -7.5, -2.5, -2.5, -1, -1, -1, -1, -1, -1\n",
    "        ])\n",
    "        self.pi = self.u_pi * self.pi\n",
    "        self.g = 10"
   ]
  },
  {
   "cell_type": "markdown",
   "metadata": {},
   "source": [
    "## 求解机构的几何参数\n",
    "\n",
    "方法如下：\n",
    "\n",
    "![](pict/1.png)"
   ]
  },
  {
   "cell_type": "code",
   "execution_count": 2,
   "metadata": {},
   "outputs": [],
   "source": [
    "import math\n",
    "\n",
    "class Mechanism:\n",
    "    \"\"\"曲柄滑块机构的求解计算\"\"\"\n",
    "    def __init__(self, mech_settings):\n",
    "        self.K = mech_settings.K\n",
    "        self.H = mech_settings.H\n",
    "        self.e = mech_settings.e\n",
    "        self.angle = 180 * (self.K - 1) / (self.K + 1)\n",
    "        self.theta = math.radians(self.angle)\n",
    "        self.l = 0\n",
    "        self.r = 0\n",
    "        self.__solve()\n",
    "\n",
    "    def __solve(self):\n",
    "        \"\"\"return length and radians\"\"\"\n",
    "        # 三角形圆的半径\n",
    "        theta = self.theta\n",
    "        H = self.H\n",
    "        e = self.e\n",
    "        R = H / (2 * math.sin(theta))\n",
    "\n",
    "        CD = R * math.cos(theta)\n",
    "        OE = math.sqrt(R**2 - (CD - e)**2)\n",
    "        OF = OE + H / 2\n",
    "\n",
    "        l_plus_r = math.sqrt(OF**2 + e**2)\n",
    "        alpha = math.asin(OE / R)\n",
    "        delta = alpha - theta\n",
    "        l_minus_r = 2 * R * math.sin(delta / 2)\n",
    "\n",
    "        self.l = (l_plus_r + l_minus_r) / 2\n",
    "        self.r = (l_plus_r - l_minus_r) / 2\n"
   ]
  },
  {
   "cell_type": "code",
   "execution_count": 5,
   "metadata": {},
   "outputs": [
    {
     "data": {
      "text/plain": [
       "'angle = 3.0958230958230883'"
      ]
     },
     "metadata": {},
     "output_type": "display_data"
    },
    {
     "data": {
      "text/plain": [
       "'l = 397.52175616699924'"
      ]
     },
     "metadata": {},
     "output_type": "display_data"
    },
    {
     "data": {
      "text/plain": [
       "'r = 99.45807704268577'"
      ]
     },
     "metadata": {},
     "output_type": "display_data"
    }
   ],
   "source": [
    "mech_settings = Settings()\n",
    "crank_slider = Mechanism(mech_settings)\n",
    "\n",
    "\n",
    "display(\"angle = {}\".format(crank_slider.angle))\n",
    "display(\"l = {}\".format(crank_slider.l))\n",
    "display(\"r = {}\".format(crank_slider.r))"
   ]
  },
  {
   "cell_type": "markdown",
   "metadata": {},
   "source": [
    "## 解析计算\n",
    "\n",
    "1. 采用状态的想法来划分\n",
    "2. 将速度、加速度等作为子类来处理\n",
    "3. 简洁处理，不需要传递参数的就不需要"
   ]
  },
  {
   "cell_type": "code",
   "execution_count": 6,
   "metadata": {},
   "outputs": [
    {
     "data": {
      "text/plain": [
       "[1.490223010691042,\n",
       " 0.9666242350927431,\n",
       " 0.4430254594944443,\n",
       " 0.14739220874167835,\n",
       " -0.08057331610385465,\n",
       " -0.6041720917021534,\n",
       " -1.127770867300452,\n",
       " -1.6513696428987512,\n",
       " -1.705401948980148,\n",
       " -2.17496841849705,\n",
       " -2.6985671940953484,\n",
       " -3.2221659696936475,\n",
       " -3.484525387213342,\n",
       " -3.745764745291946,\n",
       " -4.269363520890245]"
      ]
     },
     "metadata": {},
     "output_type": "display_data"
    }
   ],
   "source": [
    "from func import tool\n",
    "class Cood_param:\n",
    "    \"\"\"\n",
    "    ## 计算坐标的关键参数\n",
    "    \"\"\"\n",
    "    def __init__(self):\n",
    "        self.l_OB_up = crank_slider.r + crank_slider.l\n",
    "        self.l_OB_down = abs( crank_slider.r - crank_slider.l)\n",
    "        self.B_up = {'x': mech_settings.e, 'y': 0}\n",
    "        self.B_down = {'x': mech_settings.e, 'y': 0}\n",
    "        self.B_up['y'] = self.__calc_By(self.l_OB_up)\n",
    "        self.B_down['y'] = self.__calc_By(self.l_OB_down)\n",
    "        self.theta_list = []\n",
    "\n",
    "        self.__calc_theta_list()\n",
    "    \n",
    "    def __calc_By(self, l):\n",
    "        return (l**2 - mech_settings.e**2)**0.5\n",
    "    \n",
    "    def __calc_theta_list(self):\n",
    "        theta0 = tool.xy_to_polar_theta(self.B_up['x'], self.B_up['y'])\n",
    "        temp_theta_list = []\n",
    "        # 角度相差 30 度\n",
    "        delta_theta = math.pi / 6\n",
    "        for i in range(0,12):\n",
    "            temp_theta = theta0 - i * delta_theta\n",
    "            temp_theta_list.append(temp_theta)\n",
    "        # 加入 6' 点\n",
    "        theta6 = tool.xy_to_polar_theta(self.B_down['x'], self.B_down['y']) - math.pi\n",
    "        temp_theta_list.append(theta6)\n",
    "        # 加入 2' 和 9'\n",
    "        temp_l_OB = math.hypot(crank_slider.r, crank_slider.l)\n",
    "        temp_By = self.__calc_By(temp_l_OB)\n",
    "        theta_OB = tool.xy_to_polar_theta(mech_settings.e, temp_By)\n",
    "        theta_OBA = tool.xy_to_polar_theta(crank_slider.r, crank_slider.l)\n",
    "        theta_2_prime = theta_OB - theta_OBA\n",
    "        # 首先确定角度, 然后减去 2 * pi ,使得排在第 9' 处\n",
    "        theta_9_prime = theta_OB + theta_OBA - 2 * math.pi\n",
    "        temp_theta_list.extend([theta_2_prime, theta_9_prime])\n",
    "        temp_theta_list.sort(reverse=True)\n",
    "        \n",
    "        self.theta_list = temp_theta_list.copy()\n",
    "        \n",
    "cood_param = Cood_param()\n",
    "\n",
    "# test\n",
    "# display(cood_param.theta_list)"
   ]
  },
  {
   "cell_type": "code",
   "execution_count": null,
   "metadata": {},
   "outputs": [],
   "source": [
    "\n",
    "class Coordinates:\n",
    "    \"\"\"\n",
    "    # 坐标位置\n",
    "    \n",
    "    - **以O点建立坐标系**\n",
    "\n",
    "    \"\"\"\n",
    "\n",
    "    def __init__(self, theta):\n",
    "        self.A = {'x': 0, 'y': 0}\n",
    "        self.B = {'x': mech_settings.e, 'y': 0}\n",
    "        self.theta_OA = theta\n",
    "        self.l_OA = crank_slider.r\n",
    "        self.l_AB = crank_slider.l\n",
    "\n",
    "        self.__calc_pos_A()\n",
    "        self.__calc_pos_B()\n",
    "\n",
    "    def __calc_pos_A(self):\n",
    "        self.A['x'] = self.l_AB * math.cos(self.theta_OA)\n",
    "        self.A['y'] = self.l_AB * math.sin(self.theta_OA)\n",
    "\n",
    "    def __calc_pos_B(self):\n",
    "        self.B['y'] = self.A['y'] + (self.l_AB**2 -\n",
    "                                     (self.B['x'] - self.A['x'])**2)**0.5\n",
    "    \n",
    "    def draw(self):\n",
    "        pass\n"
   ]
  },
  {
   "cell_type": "code",
   "execution_count": null,
   "metadata": {},
   "outputs": [],
   "source": []
  }
 ],
 "metadata": {
  "interpreter": {
   "hash": "8471a0bedc2fed5b91e5273a74e8de7dfa404da83634471875aa2204cd20ddb3"
  },
  "kernelspec": {
   "display_name": "Python 3.8.12 64-bit ('SystemEnv': conda)",
   "language": "python",
   "name": "python3"
  },
  "language_info": {
   "codemirror_mode": {
    "name": "ipython",
    "version": 3
   },
   "file_extension": ".py",
   "mimetype": "text/x-python",
   "name": "python",
   "nbconvert_exporter": "python",
   "pygments_lexer": "ipython3",
   "version": "3.8.12"
  },
  "orig_nbformat": 4
 },
 "nbformat": 4,
 "nbformat_minor": 2
}
