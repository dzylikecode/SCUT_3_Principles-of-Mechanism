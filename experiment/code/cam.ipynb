{
 "cells": [
  {
   "cell_type": "markdown",
   "metadata": {},
   "source": [
    "# 凸轮设计\n",
    "\n",
    "行程的设计，为正弦曲线"
   ]
  },
  {
   "cell_type": "code",
   "execution_count": 4,
   "metadata": {},
   "outputs": [],
   "source": [
    "\n",
    "\n",
    "class Settings:\n",
    "    \"\"\"the parameter about cam\"\"\"\n",
    "    def __init__(self):\n",
    "        self.h = 8\n",
    "        self.e = 4\n",
    "        self.r = 60\n",
    "        self.delta0 = 60"
   ]
  },
  {
   "cell_type": "code",
   "execution_count": 5,
   "metadata": {},
   "outputs": [],
   "source": [
    "import math\n",
    "\n",
    "class Stroke:\n",
    "\n",
    "    def __init__(self, cam):\n",
    "        self.delta0 = cam.delta0\n",
    "        self.h = cam.h\n",
    "\n",
    "    def calc_push(self, delta):\n",
    "        \"\"\"计算推程\"\"\"\n",
    "        s = self.h * ((delta / self.delta0) -\n",
    "                 math.sin(2 * math.pi * delta / self.delta0) / (2 * math.pi))\n",
    "        return (s)\n"
   ]
  },
  {
   "cell_type": "code",
   "execution_count": 6,
   "metadata": {},
   "outputs": [
    {
     "data": {
      "text/plain": [
       "0.0"
      ]
     },
     "metadata": {},
     "output_type": "display_data"
    },
    {
     "data": {
      "text/plain": [
       "0.23067554248974909"
      ]
     },
     "metadata": {},
     "output_type": "display_data"
    },
    {
     "data": {
      "text/plain": [
       "1.5640088758230823"
      ]
     },
     "metadata": {},
     "output_type": "display_data"
    },
    {
     "data": {
      "text/plain": [
       "3.999999999999999"
      ]
     },
     "metadata": {},
     "output_type": "display_data"
    },
    {
     "data": {
      "text/plain": [
       "6.435991124176917"
      ]
     },
     "metadata": {},
     "output_type": "display_data"
    },
    {
     "data": {
      "text/plain": [
       "7.769324457510251"
      ]
     },
     "metadata": {},
     "output_type": "display_data"
    },
    {
     "data": {
      "text/plain": [
       "8.000000000000002"
      ]
     },
     "metadata": {},
     "output_type": "display_data"
    }
   ],
   "source": [
    "cam = Settings()\n",
    "\n",
    "s = Stroke(cam)\n",
    "\n",
    "delta_list = [10*i for i in range(0,7)]\n",
    "\n",
    "for delta in delta_list:\n",
    "    res = s.calc_push(delta)\n",
    "    display(res)\n"
   ]
  },
  {
   "cell_type": "code",
   "execution_count": 4,
   "metadata": {},
   "outputs": [
    {
     "name": "stdout",
     "output_type": "stream",
     "text": [
      "hi\n"
     ]
    }
   ],
   "source": [
    "import os,sys\n",
    "# current_dir = sys.path[0]\n",
    "# func_path = os.path.join(current_dir, \"\")\n",
    "# sys.path.append(func_path) #添加到环境变量中\n",
    "# print(sys.path)\n",
    "from func import test\n",
    "test.hi()"
   ]
  }
 ],
 "metadata": {
  "interpreter": {
   "hash": "8471a0bedc2fed5b91e5273a74e8de7dfa404da83634471875aa2204cd20ddb3"
  },
  "kernelspec": {
   "display_name": "Python 3.8.12 64-bit ('SystemEnv': conda)",
   "language": "python",
   "name": "python3"
  },
  "language_info": {
   "codemirror_mode": {
    "name": "ipython",
    "version": 3
   },
   "file_extension": ".py",
   "mimetype": "text/x-python",
   "name": "python",
   "nbconvert_exporter": "python",
   "pygments_lexer": "ipython3",
   "version": "3.8.12"
  },
  "orig_nbformat": 4
 },
 "nbformat": 4,
 "nbformat_minor": 2
}
