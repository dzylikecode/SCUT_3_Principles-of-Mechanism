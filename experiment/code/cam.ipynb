{
 "cells": [
  {
   "cell_type": "code",
   "execution_count": 1,
   "metadata": {},
   "outputs": [],
   "source": [
    "h1 = 8\n",
    "e1 = 4\n",
    "r0 = 60"
   ]
  },
  {
   "cell_type": "code",
   "execution_count": 3,
   "metadata": {},
   "outputs": [
    {
     "data": {
      "text/plain": [
       "0.0"
      ]
     },
     "metadata": {},
     "output_type": "display_data"
    },
    {
     "data": {
      "text/plain": [
       "0.23067554248974909"
      ]
     },
     "metadata": {},
     "output_type": "display_data"
    },
    {
     "data": {
      "text/plain": [
       "1.5640088758230823"
      ]
     },
     "metadata": {},
     "output_type": "display_data"
    },
    {
     "data": {
      "text/plain": [
       "3.999999999999999"
      ]
     },
     "metadata": {},
     "output_type": "display_data"
    },
    {
     "data": {
      "text/plain": [
       "6.435991124176917"
      ]
     },
     "metadata": {},
     "output_type": "display_data"
    },
    {
     "data": {
      "text/plain": [
       "7.769324457510251"
      ]
     },
     "metadata": {},
     "output_type": "display_data"
    },
    {
     "data": {
      "text/plain": [
       "8.000000000000002"
      ]
     },
     "metadata": {},
     "output_type": "display_data"
    }
   ],
   "source": [
    "import math\n",
    "\n",
    "\n",
    "class S:\n",
    "\n",
    "    def __init__(self, delta0, h):\n",
    "        self.delta0 = delta0\n",
    "        self.h = h\n",
    "\n",
    "    def calc(self, delta):\n",
    "        s = self.h * ((delta / self.delta0) -\n",
    "                 math.sin(2 * math.pi * delta / self.delta0) / (2 * math.pi))\n",
    "        return (s)\n",
    "\n",
    "s = S(60, h1)\n",
    "\n",
    "delta_list = [10*i for i in range(0,7)]\n",
    "\n",
    "for delta in delta_list:\n",
    "    res = s.calc(delta)\n",
    "    display(res)\n"
   ]
  }
 ],
 "metadata": {
  "interpreter": {
   "hash": "8471a0bedc2fed5b91e5273a74e8de7dfa404da83634471875aa2204cd20ddb3"
  },
  "kernelspec": {
   "display_name": "Python 3.8.12 64-bit ('SystemEnv': conda)",
   "language": "python",
   "name": "python3"
  },
  "language_info": {
   "codemirror_mode": {
    "name": "ipython",
    "version": 3
   },
   "file_extension": ".py",
   "mimetype": "text/x-python",
   "name": "python",
   "nbconvert_exporter": "python",
   "pygments_lexer": "ipython3",
   "version": "3.8.12"
  },
  "orig_nbformat": 4
 },
 "nbformat": 4,
 "nbformat_minor": 2
}
